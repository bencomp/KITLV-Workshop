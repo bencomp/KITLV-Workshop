{
 "cells": [
  {
   "cell_type": "markdown",
   "metadata": {},
   "source": [
    "# KITLV Workshop deel 1\n",
    "\n",
    "\n",
    "Programmeurs die code beschikbaar willen stellen aan anderen voor hergebruik kunnen hun code bundelen in 'modules'. Code voor specifieke functies kan op die manier eenvoudig worden hergebruikt. In deze workshop zal gebruik worden gemaakt van een aantal basis-modules voor het lezen van bestanden en het bewerken van teksten. Deze modules kunnen worden opgenomen in een programma door de naam van de module te noemen na 'import'. De module is 'kitlvTdm' is specifiek voor deze workshop geprogrammeerd."
   ]
  },
  {
   "cell_type": "code",
   "execution_count": null,
   "metadata": {
    "collapsed": true
   },
   "outputs": [],
   "source": [
    "import re\n",
    "import os\n",
    "from os.path import isfile, join , isdir\n",
    "import string\n",
    "import nltk\n",
    "from nltk.tokenize import sent_tokenize, word_tokenize\n",
    "import xml.etree.ElementTree as ET\n",
    "import requests\n",
    "import zipfile\n",
    "import math\n",
    "import os\n",
    "from os.path import isfile, join , isdir\n",
    "from wordcloud import WordCloud\n",
    "import matplotlib.pyplot as plt\n",
    "\n",
    "from kitlvTdm import *\n",
    "\n",
    "dir = 'corpus'"
   ]
  },
  {
   "cell_type": "markdown",
   "metadata": {},
   "source": [
    "Mocht een van de genoemde modules nog niet zijn geinstalleerd, voer dan het onderstaande commando uit: \n",
    "\n",
    "`!source activate py352;pip install [naam module]`\n",
    "\n",
    "Kopieer de '[Naam module]' uit de code hierboven."
   ]
  },
  {
   "cell_type": "code",
   "execution_count": null,
   "metadata": {
    "collapsed": false
   },
   "outputs": [],
   "source": [
    "!source activate py36;pip install gensim\n",
    "!source activate py36;pip install wordcloud\n",
    "!source activate py36;pip install matplotlib\n",
    "!source activate py36;pip install gensim\n",
    "!source activate py36;pip install wordcloud\n",
    "!source activate py36;pip install matplotlib\n",
    "!source activate py36;pip install math\n",
    "!source activate py36;pip install zipfile\n",
    "!source activate py36;pip install requests"
   ]
  },
  {
   "cell_type": "markdown",
   "metadata": {},
   "source": [
    "Het corpus kan worden gedownload via de onderstaande code. Voor de variabelen 'username' en 'passowrd' moeten nog de juiste waarden worden ingevuld."
   ]
  },
  {
   "cell_type": "code",
   "execution_count": null,
   "metadata": {
    "collapsed": true
   },
   "outputs": [],
   "source": [
    "download_corpus(\"https://pino.leidenuniv.nl/kitlv/texts/corpus.zip\", \"username\", \"password\")"
   ]
  },
  {
   "cell_type": "markdown",
   "metadata": {},
   "source": [
    "De code hieronder demonstreert onder meer het gebruik van de functie _showTitle()_ uit de module kitlvTdm. Wanneer de code wordt uitgevoerd toont het programma een lijst van alle documenten waar de term die is opgegeven via de variabele 'searchTerm' in voorkomt. In het corpus worden eigen codes gebruikt voor de gedigitaliseerde teksten. Via een bestand 'metadata.csv' worden de juiste titels bij deze codes gezocht. De waarde van de variable _searchTerm_ kan worden aangepast. "
   ]
  },
  {
   "cell_type": "code",
   "execution_count": null,
   "metadata": {
    "collapsed": false
   },
   "outputs": [],
   "source": [
    "\n",
    "searchTerm = 'java'\n",
    "\n",
    "print( 'The term \\'{}\\' occurs in the following titles:\\n'.format( searchTerm ) )\n",
    "\n",
    "for file in os.listdir( dir ):\n",
    "    if re.search( '[.]txt$' , file ):\n",
    "        book = open( join( dir , file ) )\n",
    "        if re.search( searchTerm , book.read() ):\n",
    "            print(  file + ': ' + showTitle( file )  )\n"
   ]
  },
  {
   "cell_type": "markdown",
   "metadata": {},
   "source": [
    "Om een concordantie (of een keyword-in-context-list) te maken moet er op de eerste plaats een zoekterm worden opgegeven. In de onderstaande code kan dan via de variabele 'searchTerm'. Wanneer de code wordt uitgevoerd zoekt de computer alle passages in de tekst waar de zoekterm in voorkomt. Bij het weergeven van de resultaten wordt ook de context weergeveven. Er worden dan een vast aantal karakters voor en na het gevonden trefwoord getoond. In de onderstaande code wordt het aantal karakters voor en na het trefwoord vastgelegd via de variabele 'window'. Deze onderstaande code richt zich op een individuele tekst. In de variabele 'book' moet worden opgegeven welk boek moet worden doorzocht."
   ]
  },
  {
   "cell_type": "code",
   "execution_count": null,
   "metadata": {
    "collapsed": false
   },
   "outputs": [],
   "source": [
    "\n",
    "book = '03845.txt'\n",
    "searchTerm = 'java'\n",
    "window = 40\n",
    "\n",
    "print( 'Occurrences in: ' + showTitle( book ) + '\\n\\n' )\n",
    "\n",
    "\n",
    "matches = concordance( join( dir , book ) , searchTerm , window )\n",
    "for match in matches:\n",
    "    print(match)\n",
    "\n"
   ]
  },
  {
   "cell_type": "markdown",
   "metadata": {},
   "source": [
    "Net als bij een concordantie (zie hierboven) richt een collocatie-analyse zich op de context van specifieke zoektermen. Bij een collocatie-analyse worden alle woorden in de context geteld. Op deze manier kan er een beeld ontstaan van de woorden die veel in de omgeving van een specifieke zoekterm worden gebruikt. Variabele 'book' verwijst naar de tekst die moet worden doorzocht, 'searchTerm' is de term waarnaar wordt gezicht, en 'window' bepaalt het aantal woorden voor en na de opgegeven zoekterm. In de onderstaande code wordt ook de functie _removeStopwords()_ gebruikt. Deze functie heeft als effect dat veelvoorkomende woorden zonder veel betekenis (lidwoorden, voornaamwoorden, voorzetstel) buiten beschouwing worden gelaten."
   ]
  },
  {
   "cell_type": "code",
   "execution_count": null,
   "metadata": {
    "collapsed": false
   },
   "outputs": [],
   "source": [
    "book = '03391.txt'\n",
    "searchTerm = 'java'\n",
    "window = 30\n",
    "\n",
    "freq = collocation( join( dir , book ) , searchTerm , window )\n",
    "freq = removeStopwords( freq )\n",
    "\n",
    "sorted_f = sorted( freq , key=lambda x: freq[x])\n",
    "max = 30\n",
    "i = 0\n",
    "\n",
    "for f in reversed( sorted_f ):\n",
    "    i += 1\n",
    "    print( '{} =>  {}'.format( f , freq[f] ) )\n",
    "    if i == max:\n",
    "        break"
   ]
  },
  {
   "cell_type": "markdown",
   "metadata": {},
   "source": [
    "De onderstaande code berekent de woorden die het meeste voorkomen in de tekst die wordt genoemd in de variabele 'book'. Deze code maakt net als bovenstaande code gebruik van de functie _removeStopWords()_."
   ]
  },
  {
   "cell_type": "code",
   "execution_count": null,
   "metadata": {
    "collapsed": false,
    "scrolled": true
   },
   "outputs": [],
   "source": [
    "book = '03391.txt'\n",
    "\n",
    "freq = calculateWordFrequencies( join( dir , book ) )\n",
    "freq = removeStopwords( freq )\n",
    "\n",
    "sorted_f = sorted( freq , key=lambda x: freq[x])\n",
    "max = 30\n",
    "i = 0\n",
    "\n",
    "for f in reversed( sorted_f ):\n",
    "    i += 1\n",
    "    print( '{} =>  {}'.format( f , freq[f] ) )\n",
    "    if i == max:\n",
    "        break"
   ]
  },
  {
   "cell_type": "markdown",
   "metadata": {},
   "source": [
    "De resultaten van de collocatie-analyse en van de berekening van de meest frequente woorden kunnen ook grafisch worden weergegeven. MatPlotLub is een veelgebruikte visualisatie-bibliotheek in Python. De onderstaande code maakt bivendien gebruik van de _wordcloud_-module. Wanneer via een van de bovenstaande blokken een variable met de naam 'freq' is aangemaakt, worden de woorden, op basis van de bijbehorende tellingen, in een woordenwolk weergegeven."
   ]
  },
  {
   "cell_type": "code",
   "execution_count": null,
   "metadata": {
    "collapsed": false
   },
   "outputs": [],
   "source": [
    "%matplotlib inline\n",
    "\n",
    "wordcloud = WordCloud( background_color=\"white\",  width=1500,height=1000, max_words= 100,relative_scaling=1,normalize_plurals=False).generate_from_frequencies(freq)\n",
    "\n",
    "\n",
    "plt.imshow(wordcloud, interpolation='bilinear')\n",
    "plt.axis(\"off\")\n",
    "plt.show()\n",
    "\n"
   ]
  }
 ],
 "metadata": {
  "kernelspec": {
   "display_name": "Python 3",
   "language": "python",
   "name": "python3"
  },
  "language_info": {
   "codemirror_mode": {
    "name": "ipython",
    "version": 3
   },
   "file_extension": ".py",
   "mimetype": "text/x-python",
   "name": "python",
   "nbconvert_exporter": "python",
   "pygments_lexer": "ipython3",
   "version": "3.5.2"
  }
 },
 "nbformat": 4,
 "nbformat_minor": 1
}
